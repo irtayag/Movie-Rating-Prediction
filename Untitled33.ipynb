{
 "cells": [
  {
   "cell_type": "markdown",
   "id": "5f07e1db",
   "metadata": {},
   "source": [
    "# Alfido Infotech Data Analytics Internship"
   ]
  },
  {
   "cell_type": "markdown",
   "id": "d4978ed7",
   "metadata": {},
   "source": [
    "Task 2:Movie Rating Prediction"
   ]
  },
  {
   "cell_type": "markdown",
   "id": "84164c54",
   "metadata": {},
   "source": [
    "Name- Gayatri Ballal"
   ]
  },
  {
   "cell_type": "code",
   "execution_count": 1,
   "id": "b1f0a20f",
   "metadata": {},
   "outputs": [
    {
     "name": "stdout",
     "output_type": "stream",
     "text": [
      "Mean Squared Error: 0.025931080000000137\n"
     ]
    }
   ],
   "source": [
    "# Import necessary libraries\n",
    "import pandas as pd\n",
    "from sklearn.model_selection import train_test_split\n",
    "from sklearn.ensemble import RandomForestRegressor\n",
    "from sklearn.metrics import mean_squared_error\n",
    "\n",
    "# Load the data\n",
    "df = pd.read_csv(\"C:/Users/HP/Downloads/archive (45)/Indian_movies.csv\")\n",
    "\n",
    "# Feature selection\n",
    "features = [\"Rank\", \"Year\"]\n",
    "\n",
    "# Target variable\n",
    "target = \"Rating\"\n",
    "\n",
    "# Split the data into training and testing sets\n",
    "X_train, X_test, y_train, y_test = train_test_split(\n",
    "    df[features], df[target], test_size=0.2, random_state=42\n",
    ")\n",
    "\n",
    "# Initialize the Random Forest Regressor\n",
    "rf_regressor = RandomForestRegressor(n_estimators=100, random_state=42)\n",
    "\n",
    "# Train the regressor\n",
    "rf_regressor.fit(X_train, y_train)\n",
    "\n",
    "# Make predictions on the test set\n",
    "y_pred = rf_regressor.predict(X_test)\n",
    "\n",
    "# Evaluate the model using Mean Squared Error\n",
    "mse = mean_squared_error(y_test, y_pred)\n",
    "print(f\"Mean Squared Error: {mse}\")\n"
   ]
  },
  {
   "cell_type": "markdown",
   "id": "eb6d41ba",
   "metadata": {},
   "source": [
    "A Mean Squared Error (MSE) value of 0.0259 is relatively low, which is generally a positive sign in regression problems."
   ]
  },
  {
   "cell_type": "markdown",
   "id": "8abc9e47",
   "metadata": {},
   "source": [
    "Conclusions: \n",
    "Model Performance: The low MSE indicates that the Random Forest Regressor is performing well in predicting movie ratings on the test set.\n",
    "Accuracy: The model is accurate in capturing the variations in movie ratings. \n",
    "The low MSE suggests that your Random Forest Regressor is providing accurate and reliable predictions for movie ratings based on the selected features.\n",
    "It is a positive outcome for your regression model.    "
   ]
  },
  {
   "cell_type": "code",
   "execution_count": null,
   "id": "7a519cba",
   "metadata": {},
   "outputs": [],
   "source": []
  }
 ],
 "metadata": {
  "kernelspec": {
   "display_name": "Python 3 (ipykernel)",
   "language": "python",
   "name": "python3"
  },
  "language_info": {
   "codemirror_mode": {
    "name": "ipython",
    "version": 3
   },
   "file_extension": ".py",
   "mimetype": "text/x-python",
   "name": "python",
   "nbconvert_exporter": "python",
   "pygments_lexer": "ipython3",
   "version": "3.10.6"
  }
 },
 "nbformat": 4,
 "nbformat_minor": 5
}
